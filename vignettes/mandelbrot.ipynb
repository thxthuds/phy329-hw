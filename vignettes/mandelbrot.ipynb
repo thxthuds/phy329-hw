{
 "cells": [
  {
   "cell_type": "code",
   "execution_count": 7,
   "metadata": {},
   "outputs": [],
   "source": [
    "# Mandelbrot Set ASCII Art in Python\n",
    "def mandelbrot(c, max_iter):\n",
    "    z = 0\n",
    "    for n in range(max_iter):\n",
    "        if abs(z) > 2:\n",
    "            return n\n",
    "        z = z * z + c\n",
    "    return max_iter\n",
    "\n",
    "def generate_ascii(width, height, max_iter):\n",
    "    # Set the range of the plot for the Mandelbrot set\n",
    "    x_min, x_max = -2.5, 1.5\n",
    "    y_min, y_max = -1.5, 1.5\n",
    "\n",
    "    # Compute the scaling factors to map pixels to the complex plane\n",
    "    x_scale = (x_max - x_min) / (width - 1)\n",
    "    y_scale = (y_max - y_min) / (height - 1)\n",
    "\n",
    "    # Define characters for ASCII representation\n",
    "    chars = \" .:-=+*#%@\"\n",
    "\n",
    "    # Generate ASCII art for the Mandelbrot set\n",
    "    for y in range(height):\n",
    "        row = \"\"\n",
    "        for x in range(width):\n",
    "            # Map pixel coordinate to the complex plane\n",
    "            real = x_min + x * x_scale\n",
    "            imag = y_min + y * y_scale\n",
    "            c = complex(real, imag)\n",
    "            # Get the number of iterations for the point\n",
    "            m = mandelbrot(c, max_iter)\n",
    "            # Choose character based on the number of iterations\n",
    "            row += chars[m % len(chars)]\n",
    "        print(row)\n",
    "\n"
   ]
  },
  {
   "cell_type": "code",
   "execution_count": 8,
   "metadata": {},
   "outputs": [
    {
     "name": "stdout",
     "output_type": "stream",
     "text": [
      "........................::::::::::::::::::::::::::::::::::::::::::::::::::::....\n",
      ".....................::::::::::::::::::::::::::::::::::::::::::::::::::::::::::.\n",
      "...................::::::::::----------------------:::::::::::::::::::::::::::::\n",
      ".................:::::::----------------====+%%++===----::::::::::::::::::::::::\n",
      "...............:::::----------------======+++#@ + *=====----::::::::::::::::::::\n",
      "..............:::----------------=======++*#++  %: *+++===-----:::::::::::::::::\n",
      ".............::---------------======+*####%@.    @ %#****+==-----:::::::::::::::\n",
      "............:-------------====+++++*#@+  =            =  -*+=------:::::::::::::\n",
      "...........:----------==+**++++***#%                    :%*+==------::::::::::::\n",
      "...........----=====+++*%+:. =: @@@:                       *===------:::::::::::\n",
      "...........-=====+++++## +        +                      : +===------:::::::::::\n",
      "..........-+++*#**###@+                                  %*+===-------::::::::::\n",
      "..........-+++*#**###@+                                  %*+===-------::::::::::\n",
      "...........-=====+++++## +        +                      : +===------:::::::::::\n",
      "...........----=====+++*%+:. =: @@@:                       *===------:::::::::::\n",
      "...........:----------==+**++++***#%                    :%*+==------::::::::::::\n",
      "............:-------------====+++++*#@+  =            =  -*+=------:::::::::::::\n",
      ".............::---------------======+*####%@.    @ %#****+==-----:::::::::::::::\n",
      "..............:::----------------=======++*#++  %: *+++===-----:::::::::::::::::\n",
      "...............:::::----------------======+++#@ + *=====----::::::::::::::::::::\n",
      ".................:::::::----------------====+%%++===----::::::::::::::::::::::::\n",
      "...................::::::::::----------------------:::::::::::::::::::::::::::::\n",
      ".....................::::::::::::::::::::::::::::::::::::::::::::::::::::::::::.\n",
      "........................::::::::::::::::::::::::::::::::::::::::::::::::::::....\n"
     ]
    }
   ],
   "source": [
    "# Parameters\n",
    "width = 80        # Width of the ASCII output\n",
    "height = 24       # Height of the ASCII output\n",
    "max_iter = 30     # Maximum iterations for escape-time algorithm\n",
    "\n",
    "generate_ascii(width, height, max_iter)\n"
   ]
  },
  {
   "cell_type": "code",
   "execution_count": null,
   "metadata": {},
   "outputs": [],
   "source": []
  }
 ],
 "metadata": {
  "kernelspec": {
   "display_name": "base",
   "language": "python",
   "name": "python3"
  },
  "language_info": {
   "codemirror_mode": {
    "name": "ipython",
    "version": 3
   },
   "file_extension": ".py",
   "mimetype": "text/x-python",
   "name": "python",
   "nbconvert_exporter": "python",
   "pygments_lexer": "ipython3",
   "version": "3.11.7"
  }
 },
 "nbformat": 4,
 "nbformat_minor": 2
}
